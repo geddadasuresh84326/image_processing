{
 "cells": [
  {
   "cell_type": "code",
   "execution_count": 1,
   "metadata": {},
   "outputs": [],
   "source": [
    "import numpy as np\n",
    "import pandas as pd\n",
    "from matplotlib import pyplot as plt\n",
    "import imutils\n",
    "import cv2\n",
    "import pytesseract"
   ]
  },
  {
   "cell_type": "code",
   "execution_count": 70,
   "metadata": {},
   "outputs": [],
   "source": [
    "img = cv2.imread(\"2024-03-21 14_31_29-Window.png\")"
   ]
  },
  {
   "cell_type": "code",
   "execution_count": 71,
   "metadata": {},
   "outputs": [
    {
     "data": {
      "text/plain": [
       "'Gujarat State Petronet Lta\\nM/s Elster-Instromet India Pvt. Ltd.\\n\\nNikun) Parmar\\nAnkit Patel\\n\\nALMEER TECHNICAL SERVICES CO. W.L.L. KUWAI salim rana\\n\\nL&T-Chiyoda Limited\\n\\nSchlumberger Asia Services Limited\\nJubilant Organosys Ltd.\\n\\nWelspun Gujarat Stahl Rohren Ltd.\\nShalimar Paints Limited\\n\\nULTRA PURE GASES | PVT LTD\\n\\nGAIL (INDIA) LIMITED\\n\\nGOVERNMENT OF GUJARAT\\n\\nONGC\\n\\nGAIL (INDIA) LIMITED\\n\\nPetronet LNG Limited, Dahej, (Gujarat)\\nRELIANCE IND. LTD. DAHEJ, BHARUCH\\nnone\\n\\nNULL\\n\\nMartin George\\nNilesh Patil\\n\\ngirija paliwal\\nSURENDAR MEHTA\\nNipul Thakkar\\nPrashant Patel\\n\\nanil soni\\n\\nparesh sharma\\n\\nAnil Srivastava\\n\\nTEJ SINGH LOHCHAB\\nSHABBIR BHARMAL RAJABBH\\nparas shah\\n\\nkartik jadav\\nVinulsinh Chawda\\n\\n99090223/1\\n9824096748\\n9825818951\\n9998986939\\n9879523396\\n9879109310\\n9879109142\\n9824312459\\n9824650548\\n9427591431\\n9879500716\\n9426612026\\n9727676436\\n9924995609\\n9979117754\\n9998948918\\n9427602896\\n'"
      ]
     },
     "execution_count": 71,
     "metadata": {},
     "output_type": "execute_result"
    }
   ],
   "source": [
    "## extracting text from image using pytesseract\n",
    "pytesseract.pytesseract.tesseract_cmd = r'C:\\Users\\suresh\\AppData\\Local\\Programs\\Tesseract-OCR\\tesseract'\n",
    "\n",
    "text = pytesseract.image_to_string(img,lang='eng')\n",
    "text\n"
   ]
  },
  {
   "cell_type": "code",
   "execution_count": 72,
   "metadata": {},
   "outputs": [
    {
     "data": {
      "text/plain": [
       "['Gujarat State Petronet Lta\\nM/s Elster-Instromet India Pvt. Ltd.',\n",
       " 'Nikun) Parmar\\nAnkit Patel',\n",
       " 'ALMEER TECHNICAL SERVICES CO. W.L.L. KUWAI salim rana',\n",
       " 'L&T-Chiyoda Limited',\n",
       " 'Schlumberger Asia Services Limited\\nJubilant Organosys Ltd.',\n",
       " 'Welspun Gujarat Stahl Rohren Ltd.\\nShalimar Paints Limited',\n",
       " 'ULTRA PURE GASES | PVT LTD',\n",
       " 'GAIL (INDIA) LIMITED',\n",
       " 'GOVERNMENT OF GUJARAT',\n",
       " 'ONGC',\n",
       " 'GAIL (INDIA) LIMITED',\n",
       " 'Petronet LNG Limited, Dahej, (Gujarat)\\nRELIANCE IND. LTD. DAHEJ, BHARUCH\\nnone',\n",
       " 'NULL',\n",
       " 'Martin George\\nNilesh Patil',\n",
       " 'girija paliwal\\nSURENDAR MEHTA\\nNipul Thakkar\\nPrashant Patel',\n",
       " 'anil soni',\n",
       " 'paresh sharma',\n",
       " 'Anil Srivastava',\n",
       " 'TEJ SINGH LOHCHAB\\nSHABBIR BHARMAL RAJABBH\\nparas shah',\n",
       " 'kartik jadav\\nVinulsinh Chawda',\n",
       " '99090223/1\\n9824096748\\n9825818951\\n9998986939\\n9879523396\\n9879109310\\n9879109142\\n9824312459\\n9824650548\\n9427591431\\n9879500716\\n9426612026\\n9727676436\\n9924995609\\n9979117754\\n9998948918\\n9427602896\\n']"
      ]
     },
     "execution_count": 72,
     "metadata": {},
     "output_type": "execute_result"
    }
   ],
   "source": [
    "lines = text.split(\"\\n\\n\")\n",
    "lines"
   ]
  },
  {
   "cell_type": "code",
   "execution_count": 73,
   "metadata": {},
   "outputs": [
    {
     "data": {
      "text/plain": [
       "[['Gujarat State Petronet Lta', 'M/s Elster-Instromet India Pvt. Ltd.'],\n",
       " ['Nikun) Parmar', 'Ankit Patel'],\n",
       " ['ALMEER TECHNICAL SERVICES CO. W.L.L. KUWAI salim rana'],\n",
       " ['L&T-Chiyoda Limited'],\n",
       " ['Schlumberger Asia Services Limited', 'Jubilant Organosys Ltd.'],\n",
       " ['Welspun Gujarat Stahl Rohren Ltd.', 'Shalimar Paints Limited'],\n",
       " ['ULTRA PURE GASES | PVT LTD'],\n",
       " ['GAIL (INDIA) LIMITED'],\n",
       " ['GOVERNMENT OF GUJARAT'],\n",
       " ['ONGC'],\n",
       " ['GAIL (INDIA) LIMITED'],\n",
       " ['Petronet LNG Limited, Dahej, (Gujarat)',\n",
       "  'RELIANCE IND. LTD. DAHEJ, BHARUCH',\n",
       "  'none'],\n",
       " ['NULL'],\n",
       " ['Martin George', 'Nilesh Patil'],\n",
       " ['girija paliwal', 'SURENDAR MEHTA', 'Nipul Thakkar', 'Prashant Patel'],\n",
       " ['anil soni'],\n",
       " ['paresh sharma'],\n",
       " ['Anil Srivastava'],\n",
       " ['TEJ SINGH LOHCHAB', 'SHABBIR BHARMAL RAJABBH', 'paras shah'],\n",
       " ['kartik jadav', 'Vinulsinh Chawda'],\n",
       " ['99090223/1',\n",
       "  '9824096748',\n",
       "  '9825818951',\n",
       "  '9998986939',\n",
       "  '9879523396',\n",
       "  '9879109310',\n",
       "  '9879109142',\n",
       "  '9824312459',\n",
       "  '9824650548',\n",
       "  '9427591431',\n",
       "  '9879500716',\n",
       "  '9426612026',\n",
       "  '9727676436',\n",
       "  '9924995609',\n",
       "  '9979117754',\n",
       "  '9998948918',\n",
       "  '9427602896',\n",
       "  '']]"
      ]
     },
     "execution_count": 73,
     "metadata": {},
     "output_type": "execute_result"
    }
   ],
   "source": [
    "result = [line.split('\\n') for line in lines]  # Split each line by single newline\n",
    "result"
   ]
  },
  {
   "cell_type": "code",
   "execution_count": 74,
   "metadata": {},
   "outputs": [
    {
     "data": {
      "text/plain": [
       "51"
      ]
     },
     "execution_count": 74,
     "metadata": {},
     "output_type": "execute_result"
    }
   ],
   "source": [
    "flattened_result = [item for sublist in result for item in sublist]\n",
    "len(flattened_result)"
   ]
  },
  {
   "cell_type": "code",
   "execution_count": 36,
   "metadata": {},
   "outputs": [
    {
     "data": {
      "text/plain": [
       "['Gujarat State Petronet Limited',\n",
       " 'M/s Bader Al-Mulla Bros Co. W.L.L. (KUWAIT)',\n",
       " 'RIL group of company',\n",
       " 'Private Logistics company',\n",
       " 'GAIL (INDIA) LTD.',\n",
       " 'M/S GAIL(INDIA) LIMITED',\n",
       " '1.P.C.L., Baroda',\n",
       " 'NULL',\n",
       " 'Oil & Natural Gas Corp Ltd.',\n",
       " 'A TATA ENTERPRISE',\n",
       " 'INDIAN PETROCHEMICALS CORPORATION LTD.',\n",
       " 'NULL',\n",
       " 'Philips Electronics India Ltd.',\n",
       " 'fresher',\n",
       " 'FRESHER',\n",
       " 'vinay kaul',\n",
       " 'sehul patel',\n",
       " 'nailesh parikh',\n",
       " 'Murugeshan kandasami',\n",
       " 'PUGAZHENTHI RAJASEKARAN',\n",
       " 'DEO LAL',\n",
       " 'pradeep sukhadia',\n",
       " 'Anadi Dixit',\n",
       " 'Vineet Singhal',\n",
       " 'AROCKIASAMY A.',\n",
       " 'Shailesh Shah',\n",
       " 'Ashish Khattri',\n",
       " 'Milind Deshpande',\n",
       " 'Bhargav Tewar',\n",
       " 'DINESH CHUDASAMA',\n",
       " '9925010739',\n",
       " '9825497010',\n",
       " '9825569024',\n",
       " '9940103388',\n",
       " '9427130649',\n",
       " '9824269712',\n",
       " '9998002853',\n",
       " '9426510802',\n",
       " '9426025154',\n",
       " '9227132035',\n",
       " '9327239857',\n",
       " '9824256752',\n",
       " '9823933221',\n",
       " '9227123878',\n",
       " '9924961719',\n",
       " '']"
      ]
     },
     "execution_count": 36,
     "metadata": {},
     "output_type": "execute_result"
    }
   ],
   "source": [
    "flattened_result"
   ]
  },
  {
   "cell_type": "markdown",
   "metadata": {},
   "source": [
    "#### Removing empty strings"
   ]
  },
  {
   "cell_type": "code",
   "execution_count": 75,
   "metadata": {},
   "outputs": [],
   "source": [
    "lst = [word for word in flattened_result if word != '']"
   ]
  },
  {
   "cell_type": "code",
   "execution_count": 78,
   "metadata": {},
   "outputs": [
    {
     "name": "stdout",
     "output_type": "stream",
     "text": [
      "\n"
     ]
    }
   ],
   "source": [
    "string = None\n",
    "print(string)"
   ]
  },
  {
   "cell_type": "code",
   "execution_count": 76,
   "metadata": {},
   "outputs": [
    {
     "data": {
      "text/plain": [
       "50"
      ]
     },
     "execution_count": 76,
     "metadata": {},
     "output_type": "execute_result"
    }
   ],
   "source": [
    "len(lst)"
   ]
  },
  {
   "cell_type": "code",
   "execution_count": 42,
   "metadata": {},
   "outputs": [
    {
     "data": {
      "text/plain": [
       "15"
      ]
     },
     "execution_count": 42,
     "metadata": {},
     "output_type": "execute_result"
    }
   ],
   "source": [
    "num_categories = 3\n",
    "values_per_category = len(flattened_result) // num_categories\n",
    "values_per_category"
   ]
  },
  {
   "cell_type": "code",
   "execution_count": 43,
   "metadata": {},
   "outputs": [
    {
     "data": {
      "text/plain": [
       "[[], [], []]"
      ]
     },
     "execution_count": 43,
     "metadata": {},
     "output_type": "execute_result"
    }
   ],
   "source": [
    "categories = [[] for _ in range(num_categories)]\n",
    "categories"
   ]
  },
  {
   "cell_type": "code",
   "execution_count": 62,
   "metadata": {},
   "outputs": [],
   "source": [
    "indices = []"
   ]
  },
  {
   "cell_type": "code",
   "execution_count": 63,
   "metadata": {},
   "outputs": [],
   "source": [
    "for i , value in enumerate(lst):\n",
    "    indices.append(i//values_per_category)"
   ]
  },
  {
   "cell_type": "code",
   "execution_count": 64,
   "metadata": {},
   "outputs": [
    {
     "data": {
      "text/plain": [
       "{0: 15, 1: 15, 2: 15}"
      ]
     },
     "execution_count": 64,
     "metadata": {},
     "output_type": "execute_result"
    }
   ],
   "source": [
    "idx_dict = {}\n",
    "for i in indices:\n",
    "    if i not in idx_dict:\n",
    "        idx_dict[i] = 1\n",
    "    else:\n",
    "        idx_dict[i] +=1\n",
    "\n",
    "idx_dict"
   ]
  },
  {
   "cell_type": "code",
   "execution_count": 65,
   "metadata": {},
   "outputs": [],
   "source": [
    "ln = len(lst)\n",
    "cat_1 = lst[0:ln//3]\n",
    "cat_2 = lst[ln//3:(ln//3 + ln//3)]\n",
    "cat_3 = lst[(ln//3 + ln//3):]"
   ]
  },
  {
   "cell_type": "code",
   "execution_count": 67,
   "metadata": {},
   "outputs": [
    {
     "name": "stdout",
     "output_type": "stream",
     "text": [
      "15\n",
      "15\n",
      "15\n"
     ]
    }
   ],
   "source": [
    "print(len(cat_1))\n",
    "print(len(cat_2))\n",
    "print(len(cat_3))\n"
   ]
  },
  {
   "cell_type": "code",
   "execution_count": 69,
   "metadata": {},
   "outputs": [
    {
     "data": {
      "text/html": [
       "<div>\n",
       "<style scoped>\n",
       "    .dataframe tbody tr th:only-of-type {\n",
       "        vertical-align: middle;\n",
       "    }\n",
       "\n",
       "    .dataframe tbody tr th {\n",
       "        vertical-align: top;\n",
       "    }\n",
       "\n",
       "    .dataframe thead th {\n",
       "        text-align: right;\n",
       "    }\n",
       "</style>\n",
       "<table border=\"1\" class=\"dataframe\">\n",
       "  <thead>\n",
       "    <tr style=\"text-align: right;\">\n",
       "      <th></th>\n",
       "      <th>Company</th>\n",
       "      <th>Name</th>\n",
       "      <th>Mobile</th>\n",
       "    </tr>\n",
       "  </thead>\n",
       "  <tbody>\n",
       "    <tr>\n",
       "      <th>0</th>\n",
       "      <td>Gujarat State Petronet Limited</td>\n",
       "      <td>vinay kaul</td>\n",
       "      <td>9925010739</td>\n",
       "    </tr>\n",
       "    <tr>\n",
       "      <th>1</th>\n",
       "      <td>M/s Bader Al-Mulla Bros Co. W.L.L. (KUWAIT)</td>\n",
       "      <td>sehul patel</td>\n",
       "      <td>9825497010</td>\n",
       "    </tr>\n",
       "    <tr>\n",
       "      <th>2</th>\n",
       "      <td>RIL group of company</td>\n",
       "      <td>nailesh parikh</td>\n",
       "      <td>9825569024</td>\n",
       "    </tr>\n",
       "    <tr>\n",
       "      <th>3</th>\n",
       "      <td>Private Logistics company</td>\n",
       "      <td>Murugeshan kandasami</td>\n",
       "      <td>9940103388</td>\n",
       "    </tr>\n",
       "    <tr>\n",
       "      <th>4</th>\n",
       "      <td>GAIL (INDIA) LTD.</td>\n",
       "      <td>PUGAZHENTHI RAJASEKARAN</td>\n",
       "      <td>9427130649</td>\n",
       "    </tr>\n",
       "    <tr>\n",
       "      <th>5</th>\n",
       "      <td>M/S GAIL(INDIA) LIMITED</td>\n",
       "      <td>DEO LAL</td>\n",
       "      <td>9824269712</td>\n",
       "    </tr>\n",
       "    <tr>\n",
       "      <th>6</th>\n",
       "      <td>1.P.C.L., Baroda</td>\n",
       "      <td>pradeep sukhadia</td>\n",
       "      <td>9998002853</td>\n",
       "    </tr>\n",
       "    <tr>\n",
       "      <th>7</th>\n",
       "      <td>NULL</td>\n",
       "      <td>Anadi Dixit</td>\n",
       "      <td>9426510802</td>\n",
       "    </tr>\n",
       "    <tr>\n",
       "      <th>8</th>\n",
       "      <td>Oil &amp; Natural Gas Corp Ltd.</td>\n",
       "      <td>Vineet Singhal</td>\n",
       "      <td>9426025154</td>\n",
       "    </tr>\n",
       "    <tr>\n",
       "      <th>9</th>\n",
       "      <td>A TATA ENTERPRISE</td>\n",
       "      <td>AROCKIASAMY A.</td>\n",
       "      <td>9227132035</td>\n",
       "    </tr>\n",
       "    <tr>\n",
       "      <th>10</th>\n",
       "      <td>INDIAN PETROCHEMICALS CORPORATION LTD.</td>\n",
       "      <td>Shailesh Shah</td>\n",
       "      <td>9327239857</td>\n",
       "    </tr>\n",
       "    <tr>\n",
       "      <th>11</th>\n",
       "      <td>NULL</td>\n",
       "      <td>Ashish Khattri</td>\n",
       "      <td>9824256752</td>\n",
       "    </tr>\n",
       "    <tr>\n",
       "      <th>12</th>\n",
       "      <td>Philips Electronics India Ltd.</td>\n",
       "      <td>Milind Deshpande</td>\n",
       "      <td>9823933221</td>\n",
       "    </tr>\n",
       "    <tr>\n",
       "      <th>13</th>\n",
       "      <td>fresher</td>\n",
       "      <td>Bhargav Tewar</td>\n",
       "      <td>9227123878</td>\n",
       "    </tr>\n",
       "    <tr>\n",
       "      <th>14</th>\n",
       "      <td>FRESHER</td>\n",
       "      <td>DINESH CHUDASAMA</td>\n",
       "      <td>9924961719</td>\n",
       "    </tr>\n",
       "  </tbody>\n",
       "</table>\n",
       "</div>"
      ],
      "text/plain": [
       "                                        Company                     Name  \\\n",
       "0                Gujarat State Petronet Limited               vinay kaul   \n",
       "1   M/s Bader Al-Mulla Bros Co. W.L.L. (KUWAIT)              sehul patel   \n",
       "2                          RIL group of company           nailesh parikh   \n",
       "3                     Private Logistics company     Murugeshan kandasami   \n",
       "4                             GAIL (INDIA) LTD.  PUGAZHENTHI RAJASEKARAN   \n",
       "5                       M/S GAIL(INDIA) LIMITED                  DEO LAL   \n",
       "6                              1.P.C.L., Baroda         pradeep sukhadia   \n",
       "7                                          NULL              Anadi Dixit   \n",
       "8                   Oil & Natural Gas Corp Ltd.           Vineet Singhal   \n",
       "9                             A TATA ENTERPRISE           AROCKIASAMY A.   \n",
       "10       INDIAN PETROCHEMICALS CORPORATION LTD.            Shailesh Shah   \n",
       "11                                         NULL           Ashish Khattri   \n",
       "12               Philips Electronics India Ltd.         Milind Deshpande   \n",
       "13                                      fresher            Bhargav Tewar   \n",
       "14                                      FRESHER         DINESH CHUDASAMA   \n",
       "\n",
       "        Mobile  \n",
       "0   9925010739  \n",
       "1   9825497010  \n",
       "2   9825569024  \n",
       "3   9940103388  \n",
       "4   9427130649  \n",
       "5   9824269712  \n",
       "6   9998002853  \n",
       "7   9426510802  \n",
       "8   9426025154  \n",
       "9   9227132035  \n",
       "10  9327239857  \n",
       "11  9824256752  \n",
       "12  9823933221  \n",
       "13  9227123878  \n",
       "14  9924961719  "
      ]
     },
     "execution_count": 69,
     "metadata": {},
     "output_type": "execute_result"
    }
   ],
   "source": [
    "import pandas\n",
    "df = pd.DataFrame({\"Company\":cat_1,\"Name\":cat_2,\"Mobile\":cat_3})\n",
    "df"
   ]
  },
  {
   "cell_type": "code",
   "execution_count": 70,
   "metadata": {},
   "outputs": [],
   "source": [
    "df.to_csv(\"list.csv\",index=False)"
   ]
  },
  {
   "cell_type": "markdown",
   "metadata": {},
   "source": [
    "# tesseract OCR"
   ]
  },
  {
   "cell_type": "code",
   "execution_count": 13,
   "metadata": {},
   "outputs": [],
   "source": [
    "import cv2\n",
    "import matplotlib.pyplot as plt\n",
    "import pytesseract"
   ]
  },
  {
   "cell_type": "code",
   "execution_count": 194,
   "metadata": {},
   "outputs": [],
   "source": [
    "import os\n",
    "\n",
    "folder_path = os.path.join(\"data\")\n",
    "file_names = os.listdir(folder_path)\n",
    "\n",
    "file_list = []\n",
    "for file in file_names:\n",
    "    file_list.append(file)"
   ]
  },
  {
   "cell_type": "code",
   "execution_count": 307,
   "metadata": {},
   "outputs": [
    {
     "data": {
      "text/plain": [
       "'2024-03-21 15_15_14-Window.png'"
      ]
     },
     "execution_count": 307,
     "metadata": {},
     "output_type": "execute_result"
    }
   ],
   "source": [
    "file_list[36]"
   ]
  },
  {
   "cell_type": "code",
   "execution_count": 452,
   "metadata": {},
   "outputs": [
    {
     "name": "stdout",
     "output_type": "stream",
     "text": [
      "2024-03-21 15_15_14-Window.png\n"
     ]
    },
    {
     "data": {
      "text/plain": [
       "<matplotlib.image.AxesImage at 0x22a74e34310>"
      ]
     },
     "execution_count": 452,
     "metadata": {},
     "output_type": "execute_result"
    },
    {
     "data": {
      "image/png": "[encoded data removed]",
      "text/plain": [
       "<Figure size 640x480 with 1 Axes>"
      ]
     },
     "metadata": {},
     "output_type": "display_data"
    }
   ],
   "source": [
    "# image = cv2.imread(f'data/{file_list[36]}')\n",
    "image = cv2.imread(f'data/2024-03-21 14_33_16-Window.png')\n",
    "\n",
    "print(file_list[36])\n",
    "gray = cv2.cvtColor(image,cv2.COLOR_BGR2GRAY)\n",
    "\n",
    "plt.imshow(cv2.cvtColor(gray,cv2.COLOR_BGR2RGB))"
   ]
  },
  {
   "cell_type": "code",
   "execution_count": 453,
   "metadata": {},
   "outputs": [
    {
     "name": "stdout",
     "output_type": "stream",
     "text": [
      "GujaratStatePetronetLimited                    vinaykaul                       9925010739\n",
      "MsBaderAlMullaBrosCoWLLKUWAITsehulpatel                    9825497010\n",
      "RILgroupofcompany                                    naileshparikh                      9825569024\n",
      "PrivateLogisticscompany                        Murugeshankandasami       9940103388\n",
      "GAILINDIALTD                             PUGAZHENTHIRAJASEKARAN9427130649\n",
      "MSGAILINDIALIMITED                        DEOLAL                       9824269712\n",
      "IPCLBaroda                                          pradeepsukhadia                9998002853\n",
      "NULL                                                     AnadiDixit                        9426510802\n",
      "OilNaturalGasCorpLtd                         VineetSinghal                   9426025154\n",
      "ATATAENTERPRISE                                      AROCKIASAMYA                 9227132035\n",
      "INDIANPETROCHEMICALSCORPORATIONLTDShaileshShah                  9327239857\n",
      "NULL                                               AshishKhattri                  9824256752\n",
      "PhilipsElectronicsIndiaLtd                      MilindDeshpande             9823933221\n",
      "fresher                                                   BhargavTewar                   9227123878\n",
      "FRESHER                                           DINESHCHUDASAMA          9924961719\n",
      "\n"
     ]
    }
   ],
   "source": [
    "# Initialize Tesseract OCR engine\n",
    "tesseract_config = r'--oem 3 --psm 6'  # OCR Engine Mode (OEM) 3 for default, Page Segmentation Mode (PSM) 6 for a single uniform block of text\n",
    "tesseract_config += r' -c tessedit_char_whitelist=0123456789abcdefghijklmnopqrstuvwxyzABCDEFGHIJKLMNOPQRSTUVWXYZ'  # Whitelist of characters\n",
    "tesseract_config += r' -c preserve_interword_spaces=1'  # Preserve interword spaces\n",
    "tesseract_config += r' -c language_model_penalty_non_dict_word=1'  # Penalize non-dictionary words\n",
    "tesseract_config += r' -c language_model_penalty_non_freq_dict_word=1'  # Penalize infrequent dictionary words\n",
    "tesseract_config += r' -c language_model_penalty_suffix=1'  # Penalize words based on suffix\n",
    "\n",
    "# Perform OCR\n",
    "text = pytesseract.image_to_string(gray, config=tesseract_config)\n",
    "\n",
    "# Extracted text\n",
    "print(text)"
   ]
  },
  {
   "cell_type": "code",
   "execution_count": 454,
   "metadata": {},
   "outputs": [],
   "source": [
    "rows = text.strip().split()"
   ]
  },
  {
   "cell_type": "code",
   "execution_count": 455,
   "metadata": {},
   "outputs": [
    {
     "data": {
      "text/plain": [
       "['GujaratStatePetronetLimited',\n",
       " 'vinaykaul',\n",
       " '9925010739',\n",
       " 'MsBaderAlMullaBrosCoWLLKUWAITsehulpatel',\n",
       " '9825497010',\n",
       " 'RILgroupofcompany',\n",
       " 'naileshparikh',\n",
       " '9825569024',\n",
       " 'PrivateLogisticscompany',\n",
       " 'Murugeshankandasami',\n",
       " '9940103388',\n",
       " 'GAILINDIALTD',\n",
       " 'PUGAZHENTHIRAJASEKARAN9427130649',\n",
       " 'MSGAILINDIALIMITED',\n",
       " 'DEOLAL',\n",
       " '9824269712',\n",
       " 'IPCLBaroda',\n",
       " 'pradeepsukhadia',\n",
       " '9998002853',\n",
       " 'NULL',\n",
       " 'AnadiDixit',\n",
       " '9426510802',\n",
       " 'OilNaturalGasCorpLtd',\n",
       " 'VineetSinghal',\n",
       " '9426025154',\n",
       " 'ATATAENTERPRISE',\n",
       " 'AROCKIASAMYA',\n",
       " '9227132035',\n",
       " 'INDIANPETROCHEMICALSCORPORATIONLTDShaileshShah',\n",
       " '9327239857',\n",
       " 'NULL',\n",
       " 'AshishKhattri',\n",
       " '9824256752',\n",
       " 'PhilipsElectronicsIndiaLtd',\n",
       " 'MilindDeshpande',\n",
       " '9823933221',\n",
       " 'fresher',\n",
       " 'BhargavTewar',\n",
       " '9227123878',\n",
       " 'FRESHER',\n",
       " 'DINESHCHUDASAMA',\n",
       " '9924961719']"
      ]
     },
     "execution_count": 455,
     "metadata": {},
     "output_type": "execute_result"
    }
   ],
   "source": [
    "rows"
   ]
  },
  {
   "cell_type": "code",
   "execution_count": 456,
   "metadata": {},
   "outputs": [
    {
     "data": {
      "text/plain": [
       "42"
      ]
     },
     "execution_count": 456,
     "metadata": {},
     "output_type": "execute_result"
    }
   ],
   "source": [
    "len(rows)"
   ]
  },
  {
   "cell_type": "code",
   "execution_count": 457,
   "metadata": {},
   "outputs": [
    {
     "data": {
      "text/plain": [
       "{'Company': [], 'Name': [], 'Mobile': []}"
      ]
     },
     "execution_count": 457,
     "metadata": {},
     "output_type": "execute_result"
    }
   ],
   "source": [
    "dt = {\"Company\":[],\"Name\":[],\"Mobile\":[]}\n",
    "dt"
   ]
  },
  {
   "cell_type": "code",
   "execution_count": 458,
   "metadata": {},
   "outputs": [],
   "source": [
    "i = 0\n",
    "while(i<len(rows)):\n",
    "    if (rows[i].isalpha()) and (rows[i+1].isalpha()):\n",
    "        dt[\"Company\"].append(rows[i])\n",
    "        dt[\"Name\"].append(rows[i+1])\n",
    "        dt[\"Mobile\"].append(rows[i+2])\n",
    "        i +=3\n",
    "    elif (rows[i].isalpha()) and not (rows[i+1].isalpha()):\n",
    "        dt[\"Company\"].append(rows[i])\n",
    "        dt[\"Name\"].append(\"Null\")\n",
    "        dt[\"Mobile\"].append(rows[i+1])\n",
    "        i +=2"
   ]
  },
  {
   "cell_type": "code",
   "execution_count": 459,
   "metadata": {},
   "outputs": [
    {
     "data": {
      "text/plain": [
       "{'Company': ['GujaratStatePetronetLimited',\n",
       "  'MsBaderAlMullaBrosCoWLLKUWAITsehulpatel',\n",
       "  'RILgroupofcompany',\n",
       "  'PrivateLogisticscompany',\n",
       "  'GAILINDIALTD',\n",
       "  'MSGAILINDIALIMITED',\n",
       "  'IPCLBaroda',\n",
       "  'NULL',\n",
       "  'OilNaturalGasCorpLtd',\n",
       "  'ATATAENTERPRISE',\n",
       "  'INDIANPETROCHEMICALSCORPORATIONLTDShaileshShah',\n",
       "  'NULL',\n",
       "  'PhilipsElectronicsIndiaLtd',\n",
       "  'fresher',\n",
       "  'FRESHER'],\n",
       " 'Name': ['vinaykaul',\n",
       "  'Null',\n",
       "  'naileshparikh',\n",
       "  'Murugeshankandasami',\n",
       "  'Null',\n",
       "  'DEOLAL',\n",
       "  'pradeepsukhadia',\n",
       "  'AnadiDixit',\n",
       "  'VineetSinghal',\n",
       "  'AROCKIASAMYA',\n",
       "  'Null',\n",
       "  'AshishKhattri',\n",
       "  'MilindDeshpande',\n",
       "  'BhargavTewar',\n",
       "  'DINESHCHUDASAMA'],\n",
       " 'Mobile': ['9925010739',\n",
       "  '9825497010',\n",
       "  '9825569024',\n",
       "  '9940103388',\n",
       "  'PUGAZHENTHIRAJASEKARAN9427130649',\n",
       "  '9824269712',\n",
       "  '9998002853',\n",
       "  '9426510802',\n",
       "  '9426025154',\n",
       "  '9227132035',\n",
       "  '9327239857',\n",
       "  '9824256752',\n",
       "  '9823933221',\n",
       "  '9227123878',\n",
       "  '9924961719']}"
      ]
     },
     "execution_count": 459,
     "metadata": {},
     "output_type": "execute_result"
    }
   ],
   "source": [
    "dt"
   ]
  },
  {
   "cell_type": "code",
   "execution_count": 460,
   "metadata": {},
   "outputs": [],
   "source": [
    "import pandas as pd"
   ]
  },
  {
   "cell_type": "code",
   "execution_count": 461,
   "metadata": {},
   "outputs": [
    {
     "data": {
      "text/html": [
       "<div>\n",
       "<style scoped>\n",
       "    .dataframe tbody tr th:only-of-type {\n",
       "        vertical-align: middle;\n",
       "    }\n",
       "\n",
       "    .dataframe tbody tr th {\n",
       "        vertical-align: top;\n",
       "    }\n",
       "\n",
       "    .dataframe thead th {\n",
       "        text-align: right;\n",
       "    }\n",
       "</style>\n",
       "<table border=\"1\" class=\"dataframe\">\n",
       "  <thead>\n",
       "    <tr style=\"text-align: right;\">\n",
       "      <th></th>\n",
       "      <th>Company</th>\n",
       "      <th>Name</th>\n",
       "      <th>Mobile</th>\n",
       "    </tr>\n",
       "  </thead>\n",
       "  <tbody>\n",
       "    <tr>\n",
       "      <th>0</th>\n",
       "      <td>GujaratStatePetronetLimited</td>\n",
       "      <td>vinaykaul</td>\n",
       "      <td>9925010739</td>\n",
       "    </tr>\n",
       "    <tr>\n",
       "      <th>1</th>\n",
       "      <td>MsBaderAlMullaBrosCoWLLKUWAITsehulpatel</td>\n",
       "      <td>Null</td>\n",
       "      <td>9825497010</td>\n",
       "    </tr>\n",
       "    <tr>\n",
       "      <th>2</th>\n",
       "      <td>RILgroupofcompany</td>\n",
       "      <td>naileshparikh</td>\n",
       "      <td>9825569024</td>\n",
       "    </tr>\n",
       "    <tr>\n",
       "      <th>3</th>\n",
       "      <td>PrivateLogisticscompany</td>\n",
       "      <td>Murugeshankandasami</td>\n",
       "      <td>9940103388</td>\n",
       "    </tr>\n",
       "    <tr>\n",
       "      <th>4</th>\n",
       "      <td>GAILINDIALTD</td>\n",
       "      <td>Null</td>\n",
       "      <td>PUGAZHENTHIRAJASEKARAN9427130649</td>\n",
       "    </tr>\n",
       "    <tr>\n",
       "      <th>5</th>\n",
       "      <td>MSGAILINDIALIMITED</td>\n",
       "      <td>DEOLAL</td>\n",
       "      <td>9824269712</td>\n",
       "    </tr>\n",
       "    <tr>\n",
       "      <th>6</th>\n",
       "      <td>IPCLBaroda</td>\n",
       "      <td>pradeepsukhadia</td>\n",
       "      <td>9998002853</td>\n",
       "    </tr>\n",
       "    <tr>\n",
       "      <th>7</th>\n",
       "      <td>NULL</td>\n",
       "      <td>AnadiDixit</td>\n",
       "      <td>9426510802</td>\n",
       "    </tr>\n",
       "    <tr>\n",
       "      <th>8</th>\n",
       "      <td>OilNaturalGasCorpLtd</td>\n",
       "      <td>VineetSinghal</td>\n",
       "      <td>9426025154</td>\n",
       "    </tr>\n",
       "    <tr>\n",
       "      <th>9</th>\n",
       "      <td>ATATAENTERPRISE</td>\n",
       "      <td>AROCKIASAMYA</td>\n",
       "      <td>9227132035</td>\n",
       "    </tr>\n",
       "    <tr>\n",
       "      <th>10</th>\n",
       "      <td>INDIANPETROCHEMICALSCORPORATIONLTDShaileshShah</td>\n",
       "      <td>Null</td>\n",
       "      <td>9327239857</td>\n",
       "    </tr>\n",
       "    <tr>\n",
       "      <th>11</th>\n",
       "      <td>NULL</td>\n",
       "      <td>AshishKhattri</td>\n",
       "      <td>9824256752</td>\n",
       "    </tr>\n",
       "    <tr>\n",
       "      <th>12</th>\n",
       "      <td>PhilipsElectronicsIndiaLtd</td>\n",
       "      <td>MilindDeshpande</td>\n",
       "      <td>9823933221</td>\n",
       "    </tr>\n",
       "    <tr>\n",
       "      <th>13</th>\n",
       "      <td>fresher</td>\n",
       "      <td>BhargavTewar</td>\n",
       "      <td>9227123878</td>\n",
       "    </tr>\n",
       "    <tr>\n",
       "      <th>14</th>\n",
       "      <td>FRESHER</td>\n",
       "      <td>DINESHCHUDASAMA</td>\n",
       "      <td>9924961719</td>\n",
       "    </tr>\n",
       "  </tbody>\n",
       "</table>\n",
       "</div>"
      ],
      "text/plain": [
       "                                           Company                 Name  \\\n",
       "0                      GujaratStatePetronetLimited            vinaykaul   \n",
       "1          MsBaderAlMullaBrosCoWLLKUWAITsehulpatel                 Null   \n",
       "2                                RILgroupofcompany        naileshparikh   \n",
       "3                          PrivateLogisticscompany  Murugeshankandasami   \n",
       "4                                     GAILINDIALTD                 Null   \n",
       "5                               MSGAILINDIALIMITED               DEOLAL   \n",
       "6                                       IPCLBaroda      pradeepsukhadia   \n",
       "7                                             NULL           AnadiDixit   \n",
       "8                             OilNaturalGasCorpLtd        VineetSinghal   \n",
       "9                                  ATATAENTERPRISE         AROCKIASAMYA   \n",
       "10  INDIANPETROCHEMICALSCORPORATIONLTDShaileshShah                 Null   \n",
       "11                                            NULL        AshishKhattri   \n",
       "12                      PhilipsElectronicsIndiaLtd      MilindDeshpande   \n",
       "13                                         fresher         BhargavTewar   \n",
       "14                                         FRESHER      DINESHCHUDASAMA   \n",
       "\n",
       "                              Mobile  \n",
       "0                         9925010739  \n",
       "1                         9825497010  \n",
       "2                         9825569024  \n",
       "3                         9940103388  \n",
       "4   PUGAZHENTHIRAJASEKARAN9427130649  \n",
       "5                         9824269712  \n",
       "6                         9998002853  \n",
       "7                         9426510802  \n",
       "8                         9426025154  \n",
       "9                         9227132035  \n",
       "10                        9327239857  \n",
       "11                        9824256752  \n",
       "12                        9823933221  \n",
       "13                        9227123878  \n",
       "14                        9924961719  "
      ]
     },
     "execution_count": 461,
     "metadata": {},
     "output_type": "execute_result"
    }
   ],
   "source": [
    "df = pd.DataFrame(dt)\n",
    "df"
   ]
  },
  {
   "cell_type": "code",
   "execution_count": 205,
   "metadata": {},
   "outputs": [],
   "source": [
    "# i=0\n",
    "# while (i<len(rows)):\n",
    "#     if i%3 == 1:\n",
    "#         if not rows[i].isalpha():\n",
    "#             dt['Name'].append(\"Null\")\n",
    "#             dt[\"Mobile\"].append(rows[i])\n",
    "#             i +=2\n",
    "#         else:\n",
    "#             dt['Name'].append(rows[i])\n",
    "#             i +=1\n",
    "\n",
    "#     if i%3 == 0:\n",
    "#         if not rows[i].isalpha():\n",
    "#             dt[\"Name\"].append(\"Null\")\n",
    "#             dt[\"Mobile\"].append(rows[i])\n",
    "#         else:\n",
    "#             dt[\"Company\"].append(rows[i])\n",
    "#             i +=1\n",
    "#     else:\n",
    "#         if rows[i].isalpha():\n",
    "#             dt['Name'].append(rows[i])\n",
    "#             i +=1\n",
    "#         else:\n",
    "#             dt[\"Mobile\"].append(rows[i])\n"
   ]
  },
  {
   "cell_type": "code",
   "execution_count": 61,
   "metadata": {},
   "outputs": [
    {
     "data": {
      "text/plain": [
       "{'Company': ['SinghaniaPackersMovers',\n",
       "  'JamnagarTransportCo',\n",
       "  'RRTransport',\n",
       "  'JKExpress',\n",
       "  'NishuRoadlines',\n",
       "  'OmTransport',\n",
       "  'ElkayChemicalPvtLtd',\n",
       "  'AnjaliInfotech',\n",
       "  'GlobalCarriers',\n",
       "  'ShregjiPackersMovers',\n",
       "  'VTrans',\n",
       "  '9328710448',\n",
       "  'ArnPackersAndMovers'],\n",
       " 'Name': ['SandipSinghania',\n",
       "  'KalpeshNanavati',\n",
       "  'RajuBhalja',\n",
       "  'JitenderKumarGupta',\n",
       "  'Avinash',\n",
       "  'MrHemantBhai',\n",
       "  'Deepak',\n",
       "  'JayulBhagat',\n",
       "  'AnilDhyani',\n",
       "  'DilipDhawan',\n",
       "  'Null',\n",
       "  'ArihantRoadlines',\n",
       "  'AKMishra'],\n",
       " 'Mobile': ['9824711311',\n",
       "  '9712400007',\n",
       "  '9825133034',\n",
       "  '9327565402',\n",
       "  '9825425524',\n",
       "  '9824169105',\n",
       "  '9374728672',\n",
       "  '9825274064',\n",
       "  '9374550552',\n",
       "  '9974247411',\n",
       "  '9327347514',\n",
       "  '9377604749',\n",
       "  '9328179951']}"
      ]
     },
     "execution_count": 61,
     "metadata": {},
     "output_type": "execute_result"
    }
   ],
   "source": [
    "dt"
   ]
  },
  {
   "cell_type": "code",
   "execution_count": null,
   "metadata": {},
   "outputs": [],
   "source": [
    "0  0\n",
    "1  1\n",
    "2  2\n",
    "3  0\n",
    "4  1\n",
    "5  2\n",
    "6  0\n"
   ]
  },
  {
   "cell_type": "code",
   "execution_count": 22,
   "metadata": {},
   "outputs": [
    {
     "data": {
      "text/plain": [
       "[['SinghaniaPackersMovers                       SandipSinghania               9824711311'],\n",
       " ['JamnagarTransportCo                       KalpeshNanavati            9712400007'],\n",
       " ['RRTransport                                        RajuBhalja                       9825133034'],\n",
       " ['JKExpress                                  JitenderKumarGupta        9327565402'],\n",
       " ['NishuRoadlines                             Avinash                     9825425524'],\n",
       " ['OmTransport                               MrHemantBhai             9824169105'],\n",
       " ['ElkayChemicalPvtLtd                        Deepak                     9374728672'],\n",
       " ['AnjaliInfotech                                    JayulBhagat                   9825274064'],\n",
       " ['GlobalCarriers                                    AnilDhyani                    9374550552'],\n",
       " ['ShregjiPackersMovers                     DilipDhawan                9974247411'],\n",
       " ['VTrans                                                                9327347514'],\n",
       " ['SavaniTransport                                                                              9328710448'],\n",
       " ['ArihantRoadlines                                                                             9377604749'],\n",
       " ['ArnPackersAndMovers                           AKMishra                      9328179951']]"
      ]
     },
     "execution_count": 22,
     "metadata": {},
     "output_type": "execute_result"
    }
   ],
   "source": [
    "table_data = [row.split('\\t') for row in rows]\n",
    "table_data"
   ]
  },
  {
   "cell_type": "code",
   "execution_count": 23,
   "metadata": {},
   "outputs": [
    {
     "data": {
      "text/plain": [
       "1"
      ]
     },
     "execution_count": 23,
     "metadata": {},
     "output_type": "execute_result"
    }
   ],
   "source": [
    "# Determine the number of columns\n",
    "num_columns = max(len(row) for row in table_data)\n",
    "\n",
    "num_columns"
   ]
  },
  {
   "cell_type": "code",
   "execution_count": 160,
   "metadata": {},
   "outputs": [],
   "source": [
    "import os\n",
    "\n",
    "folder_path = os.path.join(\"data\")\n",
    "file_names = os.listdir(folder_path)\n",
    "\n",
    "file_list = []\n",
    "for file in file_names:\n",
    "    file_list.append(file)\n"
   ]
  },
  {
   "cell_type": "code",
   "execution_count": 164,
   "metadata": {},
   "outputs": [
    {
     "data": {
      "text/plain": [
       "42"
      ]
     },
     "execution_count": 164,
     "metadata": {},
     "output_type": "execute_result"
    }
   ],
   "source": [
    "len(file_list)"
   ]
  },
  {
   "cell_type": "code",
   "execution_count": 183,
   "metadata": {},
   "outputs": [
    {
     "name": "stdout",
     "output_type": "stream",
     "text": [
      "2024-03-21 14_58_14-Window.png\n"
     ]
    }
   ],
   "source": [
    "print(file_list[20])"
   ]
  },
  {
   "cell_type": "code",
   "execution_count": 284,
   "metadata": {},
   "outputs": [
    {
     "name": "stdout",
     "output_type": "stream",
     "text": [
      "['2024-03-21 15_14_48-Window.png', '2024-03-21 15_15_14-Window.png', '2024-03-21 15_15_30-.png', '2024-03-21 15_15_46-Window.png', '2024-03-21 15_15_58-Window.png']\n"
     ]
    },
    {
     "ename": "KeyboardInterrupt",
     "evalue": "",
     "output_type": "error",
     "traceback": [
      "\u001b[1;31m---------------------------------------------------------------------------\u001b[0m",
      "\u001b[1;31mKeyboardInterrupt\u001b[0m                         Traceback (most recent call last)",
      "Cell \u001b[1;32mIn[284], line 44\u001b[0m\n\u001b[0;32m     42\u001b[0m     dt[\u001b[38;5;124m\"\u001b[39m\u001b[38;5;124mMobile\u001b[39m\u001b[38;5;124m\"\u001b[39m]\u001b[38;5;241m.\u001b[39mappend(rows[i\u001b[38;5;241m+\u001b[39m\u001b[38;5;241m2\u001b[39m])\n\u001b[0;32m     43\u001b[0m     i \u001b[38;5;241m+\u001b[39m\u001b[38;5;241m=\u001b[39m\u001b[38;5;241m3\u001b[39m\n\u001b[1;32m---> 44\u001b[0m \u001b[38;5;28;01melif\u001b[39;00m (\u001b[43mrows\u001b[49m[i]\u001b[38;5;241m.\u001b[39misalpha()) \u001b[38;5;129;01mand\u001b[39;00m \u001b[38;5;129;01mnot\u001b[39;00m (rows[i\u001b[38;5;241m+\u001b[39m\u001b[38;5;241m1\u001b[39m]\u001b[38;5;241m.\u001b[39misalpha()):\n\u001b[0;32m     45\u001b[0m     dt[\u001b[38;5;124m\"\u001b[39m\u001b[38;5;124mCompany\u001b[39m\u001b[38;5;124m\"\u001b[39m]\u001b[38;5;241m.\u001b[39mappend(rows[i])\n\u001b[0;32m     46\u001b[0m     dt[\u001b[38;5;124m\"\u001b[39m\u001b[38;5;124mName\u001b[39m\u001b[38;5;124m\"\u001b[39m]\u001b[38;5;241m.\u001b[39mappend(\u001b[38;5;124m\"\u001b[39m\u001b[38;5;124mNull\u001b[39m\u001b[38;5;124m\"\u001b[39m)\n",
      "\u001b[1;31mKeyboardInterrupt\u001b[0m: "
     ]
    }
   ],
   "source": [
    "import numpy as np\n",
    "import pandas as pd\n",
    "import matplotlib.pyplot as plt\n",
    "import imutils\n",
    "import cv2\n",
    "import pytesseract\n",
    "import os\n",
    "\n",
    "pytesseract.pytesseract.tesseract_cmd = r'C:\\Users\\suresh\\AppData\\Local\\Programs\\Tesseract-OCR\\tesseract'\n",
    "\n",
    "dt = {\"Company\":[],\"Name\":[],\"Mobile\":[]}\n",
    "\n",
    "file_sample = file_list[35:40]\n",
    "\n",
    "print(file_sample)\n",
    "\n",
    "for file_name in file_sample:\n",
    "    image = cv2.imread(filename=f\"data/{file_name}\")\n",
    "\n",
    "    gray = cv2.cvtColor(image,cv2.COLOR_BGR2GRAY)\n",
    "\n",
    "    # plt.imshow(cv2.cvtColor(gray,cv2.COLOR_BGR2RGB))\n",
    "\n",
    "    # Initialize Tesseract OCR engine\n",
    "    tesseract_config = r'--oem 3 --psm 6'  # OCR Engine Mode (OEM) 3 for default, Page Segmentation Mode (PSM) 6 for a single uniform block of text\n",
    "    tesseract_config += r' -c tessedit_char_whitelist=0123456789abcdefghijklmnopqrstuvwxyzABCDEFGHIJKLMNOPQRSTUVWXYZ'  # Whitelist of characters\n",
    "    tesseract_config += r' -c preserve_interword_spaces=1'  # Preserve interword spaces\n",
    "    tesseract_config += r' -c language_model_penalty_non_dict_word=1'  # Penalize non-dictionary words\n",
    "    tesseract_config += r' -c language_model_penalty_non_freq_dict_word=1'  # Penalize infrequent dictionary words\n",
    "    tesseract_config += r' -c language_model_penalty_suffix=1'  # Penalize words based on suffix\n",
    "\n",
    "    # Perform OCR\n",
    "    text = pytesseract.image_to_string(gray, config=tesseract_config)\n",
    "\n",
    "    rows = text.strip().split()\n",
    "\n",
    "    i = 0\n",
    "    while(i<len(rows)):\n",
    "        if (rows[i].isalpha()) and (rows[i+1].isalpha()):\n",
    "            dt[\"Company\"].append(rows[i])\n",
    "            dt[\"Name\"].append(rows[i+1])\n",
    "            dt[\"Mobile\"].append(rows[i+2])\n",
    "            i +=3\n",
    "        elif (rows[i].isalpha()) and not (rows[i+1].isalpha()):\n",
    "            dt[\"Company\"].append(rows[i])\n",
    "            dt[\"Name\"].append(\"Null\")\n",
    "            dt[\"Mobile\"].append(rows[i+1])\n",
    "            i +=2\n",
    "\n",
    "df = pd.DataFrame(dt)\n",
    "df.to_csv(\"sample2.csv\",index=False)"
   ]
  },
  {
   "cell_type": "code",
   "execution_count": null,
   "metadata": {},
   "outputs": [],
   "source": []
  }
 ],
 "metadata": {
  "kernelspec": {
   "display_name": "Python 3",
   "language": "python",
   "name": "python3"
  },
  "language_info": {
   "codemirror_mode": {
    "name": "ipython",
    "version": 3
   },
   "file_extension": ".py",
   "mimetype": "text/x-python",
   "name": "python",
   "nbconvert_exporter": "python",
   "pygments_lexer": "ipython3",
   "version": "3.8.19"
  }
 },
 "nbformat": 4,
 "nbformat_minor": 2
}
